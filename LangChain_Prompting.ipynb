{
  "cells": [
    {
      "cell_type": "markdown",
      "metadata": {
        "id": "XoJ-RGiUo-uJ"
      },
      "source": [
        "# Langchain: The basics\n",
        "\n",
        "#### Developed By: Manaranjan Pradhan\n",
        "#### www.manaranjanp.com\n",
        "\n",
        "*This Jupyter notebook is confidential and proprietary to Manaranjan Pradhan. It is intended solely for authorized training purposes. Unauthorized distribution, sharing, or reproduction of this notebook or its contents is strictly prohibited. This material is for personal learning within the training program only and may not be used for commercial purposes or shared with others. Unauthorized use may result in disciplinary action or legal consequences. If you have received this notebook without authorization, please contact manaranjan@gmail.com immediately and delete all copies.*"
      ]
    },
    {
      "cell_type": "code",
      "execution_count": 1,
      "metadata": {
        "colab": {
          "base_uri": "https://localhost:8080/"
        },
        "id": "8RSTxnoIozRN",
        "outputId": "d68545d2-0d2c-4bee-ef98-6ced4104df2f"
      },
      "outputs": [
        {
          "output_type": "stream",
          "name": "stdout",
          "text": [
            "\u001b[?25l   \u001b[90m━━━━━━━━━━━━━━━━━━━━━━━━━━━━━━━━━━━━━━━━\u001b[0m \u001b[32m0.0/50.7 kB\u001b[0m \u001b[31m?\u001b[0m eta \u001b[36m-:--:--\u001b[0m\r\u001b[2K   \u001b[90m━━━━━━━━━━━━━━━━━━━━━━━━━━━━━━━━━━━━━━━━\u001b[0m \u001b[32m50.7/50.7 kB\u001b[0m \u001b[31m2.2 MB/s\u001b[0m eta \u001b[36m0:00:00\u001b[0m\n",
            "\u001b[?25h\u001b[?25l   \u001b[90m━━━━━━━━━━━━━━━━━━━━━━━━━━━━━━━━━━━━━━━━\u001b[0m \u001b[32m0.0/389.9 kB\u001b[0m \u001b[31m?\u001b[0m eta \u001b[36m-:--:--\u001b[0m\r\u001b[2K   \u001b[91m━━━━━━━━━━━━━━━━━━━━━━━━━━━━━━━━━━━━━━━\u001b[0m\u001b[91m╸\u001b[0m \u001b[32m389.1/389.9 kB\u001b[0m \u001b[31m14.5 MB/s\u001b[0m eta \u001b[36m0:00:01\u001b[0m\r\u001b[2K   \u001b[90m━━━━━━━━━━━━━━━━━━━━━━━━━━━━━━━━━━━━━━━━\u001b[0m \u001b[32m389.9/389.9 kB\u001b[0m \u001b[31m9.1 MB/s\u001b[0m eta \u001b[36m0:00:00\u001b[0m\n",
            "\u001b[?25h\u001b[?25l   \u001b[90m━━━━━━━━━━━━━━━━━━━━━━━━━━━━━━━━━━━━━━━━\u001b[0m \u001b[32m0.0/1.2 MB\u001b[0m \u001b[31m?\u001b[0m eta \u001b[36m-:--:--\u001b[0m\r\u001b[2K   \u001b[90m━━━━━━━━━━━━━━━━━━━━━━━━━━━━━━━━━━━━━━━━\u001b[0m \u001b[32m1.2/1.2 MB\u001b[0m \u001b[31m37.2 MB/s\u001b[0m eta \u001b[36m0:00:00\u001b[0m\n",
            "\u001b[?25h"
          ]
        }
      ],
      "source": [
        "!pip -q install openai langchain langchain_openai"
      ]
    },
    {
      "cell_type": "code",
      "execution_count": 6,
      "metadata": {
        "id": "BHeaKh917qIX"
      },
      "outputs": [],
      "source": [
        "import os\n",
        "from google.colab import userdata\n"
      ]
    },
    {
      "cell_type": "code",
      "execution_count": 7,
      "metadata": {
        "id": "9iIacDfgpB2M"
      },
      "outputs": [],
      "source": [
        "os.environ['OPENAI_API_KEY'] = userdata.get('OPENAI_API_KEY')\n"
      ]
    },
    {
      "cell_type": "markdown",
      "metadata": {
        "id": "-KB9qA8bpxgJ"
      },
      "source": [
        "## Zero Shot Prompting\n",
        "\n"
      ]
    },
    {
      "cell_type": "code",
      "execution_count": 4,
      "metadata": {
        "id": "-lzO5PfUpwfv"
      },
      "outputs": [],
      "source": [
        "from langchain_openai import ChatOpenAI"
      ]
    },
    {
      "cell_type": "code",
      "execution_count": 8,
      "metadata": {
        "id": "sTiEn3tKp7mZ"
      },
      "outputs": [],
      "source": [
        "llm = ChatOpenAI(model_name='gpt-3.5-turbo',\n",
        "             temperature=0.2,\n",
        "             max_tokens = 256)"
      ]
    },
    {
      "cell_type": "code",
      "execution_count": 9,
      "metadata": {
        "colab": {
          "base_uri": "https://localhost:8080/"
        },
        "id": "WCBfxD4cqXsx",
        "outputId": "e98f51aa-3d5a-4465-a317-a49373b3e37f"
      },
      "outputs": [
        {
          "output_type": "stream",
          "name": "stdout",
          "text": [
            "content='Positive' additional_kwargs={'refusal': None} response_metadata={'token_usage': {'completion_tokens': 1, 'prompt_tokens': 52, 'total_tokens': 53, 'completion_tokens_details': {'accepted_prediction_tokens': 0, 'audio_tokens': 0, 'reasoning_tokens': 0, 'rejected_prediction_tokens': 0}, 'prompt_tokens_details': {'audio_tokens': 0, 'cached_tokens': 0}}, 'model_name': 'gpt-3.5-turbo-0125', 'system_fingerprint': None, 'finish_reason': 'stop', 'logprobs': None} id='run-2d58d6e1-80f3-40d3-8905-d85aba708155-0' usage_metadata={'input_tokens': 52, 'output_tokens': 1, 'total_tokens': 53, 'input_token_details': {'audio': 0, 'cache_read': 0}, 'output_token_details': {'audio': 0, 'reasoning': 0}}\n"
          ]
        }
      ],
      "source": [
        "text = \"\"\"What is the sentiment of the customer review given below? It should be a positive or negative sentiment.\n",
        "\n",
        "review: The seafood platter was fresh and flavorful. Loved the chic décor and the ambiance of the place.\n",
        "Sentiment:\"\"\"\n",
        "\n",
        "print(llm.invoke(text))"
      ]
    },
    {
      "cell_type": "markdown",
      "metadata": {
        "id": "xidOhWp7rk_5"
      },
      "source": [
        "## Prompting with Prompt Templates"
      ]
    },
    {
      "cell_type": "code",
      "execution_count": 10,
      "metadata": {
        "id": "NYo3Vs9_81eH"
      },
      "outputs": [],
      "source": [
        "from langchain import PromptTemplate"
      ]
    },
    {
      "cell_type": "code",
      "execution_count": 11,
      "metadata": {
        "id": "dWFJY6-Qrm0L"
      },
      "outputs": [],
      "source": [
        "restaurant_template = \"\"\"\n",
        "What is the sentiment of the customer review given below? It should be a positive or negative sentiment.\n",
        "\n",
        "review: {review_text}\n",
        "Sentiment:\n",
        "\"\"\"\n",
        "\n",
        "review_prompt = PromptTemplate(\n",
        "    input_variables=[\"review_text\"],\n",
        "    template=restaurant_template,\n",
        ")"
      ]
    },
    {
      "cell_type": "code",
      "execution_count": 12,
      "metadata": {
        "id": "qB3E-mPeYkH-"
      },
      "outputs": [],
      "source": [
        "reviews = [\n",
        "    \"The seafood platter was fresh and flavorful. Loved the chic décor and the ambiance of the place.\",\n",
        "    \"Impressive service! The staff was attentive and made excellent recommendations. Thoroughly enjoyed the evening.\",\n",
        "    \"The restaurant's interior was a visual treat, beautifully paired with their gourmet dishes. A delightful experience!\",\n",
        "    \"The food tasted alright, but the tables were not very clean, which was off-putting.\",\n",
        "    \"Waited 30 minutes even with a reservation, and the main course was served cold. Disappointing visit.\"\n",
        "]"
      ]
    },
    {
      "cell_type": "code",
      "execution_count": 13,
      "metadata": {
        "colab": {
          "base_uri": "https://localhost:8080/"
        },
        "id": "PM66jyMI_1WX",
        "outputId": "8e46722d-6fb7-4179-b371-53e0858a17b8"
      },
      "outputs": [
        {
          "output_type": "stream",
          "name": "stdout",
          "text": [
            "\n",
            "What is the sentiment of the customer review given below? It should be a positive or negative sentiment.\n",
            "\n",
            "review: The seafood platter was fresh and flavorful. Loved the chic décor and the ambiance of the place.\n",
            "Sentiment:\n",
            "\n"
          ]
        }
      ],
      "source": [
        "print(review_prompt.format(review_text=reviews[0]))"
      ]
    },
    {
      "cell_type": "code",
      "execution_count": 14,
      "metadata": {
        "id": "KtuuvvmTayhz",
        "colab": {
          "base_uri": "https://localhost:8080/"
        },
        "outputId": "6ebdc45d-0b52-4b34-9fcb-242204f5b80a"
      },
      "outputs": [
        {
          "output_type": "stream",
          "name": "stderr",
          "text": [
            "<ipython-input-14-7b8f9a9dc912>:4: LangChainDeprecationWarning: The class `LLMChain` was deprecated in LangChain 0.1.17 and will be removed in 1.0. Use :meth:`~RunnableSequence, e.g., `prompt | llm`` instead.\n",
            "  chain = LLMChain(llm=llm, prompt=review_prompt)\n"
          ]
        }
      ],
      "source": [
        "## querying the model with the prompt template\n",
        "from langchain.chains import LLMChain\n",
        "\n",
        "chain = LLMChain(llm=llm, prompt=review_prompt)"
      ]
    },
    {
      "cell_type": "code",
      "execution_count": 16,
      "metadata": {
        "colab": {
          "base_uri": "https://localhost:8080/"
        },
        "id": "g3NQmLASAJ0-",
        "outputId": "b5f923ca-6ccb-43d3-db2b-1b009f688b8c"
      },
      "outputs": [
        {
          "output_type": "execute_result",
          "data": {
            "text/plain": [
              "{'review_text': 'The seafood platter was fresh and flavorful. Loved the chic décor and the ambiance of the place.',\n",
              " 'text': 'Positive'}"
            ]
          },
          "metadata": {},
          "execution_count": 16
        }
      ],
      "source": [
        "chain.invoke({\"review_text\": reviews[0]})"
      ]
    },
    {
      "cell_type": "code",
      "execution_count": 15,
      "metadata": {
        "colab": {
          "base_uri": "https://localhost:8080/"
        },
        "id": "TEOvuOP0AgJ_",
        "outputId": "91f0ff3d-cfd2-4609-8a86-afdb3175be68"
      },
      "outputs": [
        {
          "output_type": "stream",
          "name": "stdout",
          "text": [
            "\n",
            "What is the sentiment of the customer review given below? It should be a positive or negative sentiment.\n",
            "\n",
            "review: The seafood platter was fresh and flavorful. Loved the chic décor and the ambiance of the place.\n",
            "Sentiment:\n",
            "\n"
          ]
        },
        {
          "output_type": "stream",
          "name": "stderr",
          "text": [
            "<ipython-input-15-fd04b0bfa63f>:3: LangChainDeprecationWarning: The method `Chain.run` was deprecated in langchain 0.1.0 and will be removed in 1.0. Use :meth:`~invoke` instead.\n",
            "  print(chain.run({\"review_text\": review}))\n"
          ]
        },
        {
          "output_type": "stream",
          "name": "stdout",
          "text": [
            "Positive\n",
            "================================\n",
            "\n",
            "What is the sentiment of the customer review given below? It should be a positive or negative sentiment.\n",
            "\n",
            "review: Impressive service! The staff was attentive and made excellent recommendations. Thoroughly enjoyed the evening.\n",
            "Sentiment:\n",
            "\n",
            "Positive\n",
            "================================\n",
            "\n",
            "What is the sentiment of the customer review given below? It should be a positive or negative sentiment.\n",
            "\n",
            "review: The restaurant's interior was a visual treat, beautifully paired with their gourmet dishes. A delightful experience!\n",
            "Sentiment:\n",
            "\n",
            "Positive\n",
            "================================\n",
            "\n",
            "What is the sentiment of the customer review given below? It should be a positive or negative sentiment.\n",
            "\n",
            "review: The food tasted alright, but the tables were not very clean, which was off-putting.\n",
            "Sentiment:\n",
            "\n",
            "Negative\n",
            "================================\n",
            "\n",
            "What is the sentiment of the customer review given below? It should be a positive or negative sentiment.\n",
            "\n",
            "review: Waited 30 minutes even with a reservation, and the main course was served cold. Disappointing visit.\n",
            "Sentiment:\n",
            "\n",
            "Negative\n",
            "================================\n"
          ]
        }
      ],
      "source": [
        "for review in reviews:\n",
        "    print(review_prompt.format(review_text=review))\n",
        "    print(chain.run({\"review_text\": review}))\n",
        "    print(\"================================\")"
      ]
    },
    {
      "cell_type": "markdown",
      "metadata": {
        "id": "3aiOsgwJX_Ol"
      },
      "source": [
        "## Prompting ith Few Shot Learning"
      ]
    },
    {
      "cell_type": "code",
      "execution_count": 17,
      "metadata": {
        "id": "a2AncvoJxON6"
      },
      "outputs": [],
      "source": [
        "from langchain import FewShotPromptTemplate"
      ]
    },
    {
      "cell_type": "code",
      "execution_count": 18,
      "metadata": {
        "id": "2WOFpG-RxOVb"
      },
      "outputs": [],
      "source": [
        "# First, create the list of few shot examples.\n",
        "examples = [\n",
        "    {\n",
        "        \"Review\": \"The grilled chicken was seasoned to perfection and simply melted in the mouth.\",\n",
        "        \"Category\": \"Food Quality\"\n",
        "    },\n",
        "    {\n",
        "        \"Review\": \"Despite the crowd, the place was immaculately clean and the restrooms were spotless.\",\n",
        "        \"Category\": \"Overall Hygiene\"\n",
        "    },\n",
        "    {\n",
        "        \"Review\": \"The dim lighting and soothing jazz music provided an intimate and romantic setting.\",\n",
        "        \"Category\": \"Restaurant Ambience\"\n",
        "    },\n",
        "    {\n",
        "        \"Review\": \"We were kept waiting for our table even after a confirmed reservation and the staff seemed disinterested.\",\n",
        "        \"Category\": \"Customer Service\"\n",
        "    }\n",
        "]"
      ]
    },
    {
      "cell_type": "code",
      "execution_count": 19,
      "metadata": {
        "id": "qkDsAyF3xS7b"
      },
      "outputs": [],
      "source": [
        "# Prepare the prompt template\n",
        "example_formatter_template = \"\"\"\n",
        "review: {Review}\n",
        "category: {Category}\\n\n",
        "\"\"\"\n",
        "category_prompt = PromptTemplate(\n",
        "    input_variables=[\"Review\", \"Category\"],\n",
        "    template=example_formatter_template,\n",
        ")"
      ]
    },
    {
      "cell_type": "code",
      "execution_count": 20,
      "metadata": {
        "colab": {
          "base_uri": "https://localhost:8080/"
        },
        "id": "suEZpJB9or7r",
        "outputId": "641ea722-dbd9-45cb-8f56-dd681b9189f7"
      },
      "outputs": [
        {
          "output_type": "stream",
          "name": "stdout",
          "text": [
            "\n",
            "review: The grilled chicken was seasoned to perfection and simply melted in the mouth.\n",
            "category: Food Quality\n",
            "\n",
            "\n"
          ]
        }
      ],
      "source": [
        "print(category_prompt.format(**examples[0]))"
      ]
    },
    {
      "cell_type": "code",
      "execution_count": 21,
      "metadata": {
        "id": "ihj7fUsDxTGb"
      },
      "outputs": [],
      "source": [
        "# Finally, we create the `FewShotPromptTemplate` object.\n",
        "few_shot_category_prompt = FewShotPromptTemplate(\n",
        "    # These are the examples we want to insert into the prompt.\n",
        "    examples=examples,\n",
        "    # This is how we want to format the examples when we insert them into the prompt.\n",
        "    example_prompt=category_prompt,\n",
        "    # The prefix is some text that goes before the examples in the prompt.\n",
        "    # Usually, this consists of intructions.\n",
        "    prefix=\"Classify the reviews into one the four categories as given in the examples.\",\n",
        "    # The suffix is some text that goes after the examples in the prompt.\n",
        "    # Usually, this is where the user input will go\n",
        "    suffix=\"Review: {review_text}\\nCategory:\",\n",
        "    # The input variables are the variables that the overall prompt expects.\n",
        "    input_variables=[\"review_text\"],\n",
        "    # The example_separator is the string we will use to join the prefix, examples, and suffix together with.\n",
        "    example_separator=\"\\n\",\n",
        ")"
      ]
    },
    {
      "cell_type": "code",
      "execution_count": 22,
      "metadata": {
        "colab": {
          "base_uri": "https://localhost:8080/"
        },
        "id": "eJuHdj9wxNFq",
        "outputId": "bf9f6f64-b822-4d6a-8227-71cc53705603"
      },
      "outputs": [
        {
          "output_type": "stream",
          "name": "stdout",
          "text": [
            "Classify the reviews into one the four categories as given in the examples.\n",
            "\n",
            "review: The grilled chicken was seasoned to perfection and simply melted in the mouth.\n",
            "category: Food Quality\n",
            "\n",
            "\n",
            "\n",
            "review: Despite the crowd, the place was immaculately clean and the restrooms were spotless.\n",
            "category: Overall Hygiene\n",
            "\n",
            "\n",
            "\n",
            "review: The dim lighting and soothing jazz music provided an intimate and romantic setting.\n",
            "category: Restaurant Ambience\n",
            "\n",
            "\n",
            "\n",
            "review: We were kept waiting for our table even after a confirmed reservation and the staff seemed disinterested.\n",
            "category: Customer Service\n",
            "\n",
            "\n",
            "Review: The seafood platter was fresh and flavorful. Loved the chic décor and the ambiance of the place.\n",
            "Category:\n"
          ]
        }
      ],
      "source": [
        "# We can now generate a prompt using the `format` method.\n",
        "print(few_shot_category_prompt.format(review_text=reviews[0]))"
      ]
    },
    {
      "cell_type": "code",
      "execution_count": 23,
      "metadata": {
        "colab": {
          "base_uri": "https://localhost:8080/"
        },
        "id": "pDC56SM8FEzu",
        "outputId": "dfa01178-dbb6-42e0-d560-ac80d3dd879a"
      },
      "outputs": [
        {
          "output_type": "stream",
          "name": "stdout",
          "text": [
            "The seafood platter was fresh and flavorful. Loved the chic décor and the ambiance of the place.\n",
            "Food Quality, Restaurant Ambience\n"
          ]
        }
      ],
      "source": [
        "from langchain.chains import LLMChain\n",
        "\n",
        "category_chain = LLMChain(llm=llm, prompt=few_shot_category_prompt)\n",
        "\n",
        "print(reviews[0])\n",
        "# Run the chain only specifying the input variable.\n",
        "print(category_chain.run(reviews[0]))"
      ]
    },
    {
      "cell_type": "code",
      "execution_count": 24,
      "metadata": {
        "colab": {
          "base_uri": "https://localhost:8080/"
        },
        "id": "b46zmyJZYNYC",
        "outputId": "6cca77a5-d558-415c-968f-7796c8c5798f"
      },
      "outputs": [
        {
          "output_type": "stream",
          "name": "stdout",
          "text": [
            "The seafood platter was fresh and flavorful. Loved the chic décor and the ambiance of the place.\n",
            "Food Quality & Restaurant Ambience\n",
            "================================\n",
            "Impressive service! The staff was attentive and made excellent recommendations. Thoroughly enjoyed the evening.\n",
            "Customer Service\n",
            "================================\n",
            "The restaurant's interior was a visual treat, beautifully paired with their gourmet dishes. A delightful experience!\n",
            "Restaurant Ambience\n",
            "================================\n",
            "The food tasted alright, but the tables were not very clean, which was off-putting.\n",
            "Overall Hygiene\n",
            "================================\n",
            "Waited 30 minutes even with a reservation, and the main course was served cold. Disappointing visit.\n",
            "Food Quality\n",
            "================================\n"
          ]
        }
      ],
      "source": [
        "for review in reviews:\n",
        "    print(review)\n",
        "    print(category_chain.run({\"review_text\": review}))\n",
        "    print(\"================================\")"
      ]
    },
    {
      "cell_type": "markdown",
      "metadata": {
        "id": "P21X9oOrVPwb"
      },
      "source": [
        "## Chaining Multiple Prompts"
      ]
    },
    {
      "cell_type": "code",
      "execution_count": 25,
      "metadata": {
        "id": "SZCQP57FV9i1"
      },
      "outputs": [],
      "source": [
        "from langchain.schema import StrOutputParser"
      ]
    },
    {
      "cell_type": "code",
      "execution_count": 26,
      "metadata": {
        "id": "3QzRsUZ9U7HE"
      },
      "outputs": [],
      "source": [
        "review_chain = review_prompt | llm | StrOutputParser()"
      ]
    },
    {
      "cell_type": "code",
      "execution_count": 27,
      "metadata": {
        "colab": {
          "base_uri": "https://localhost:8080/",
          "height": 35
        },
        "id": "j0_l4sSEV6fg",
        "outputId": "f29710d2-0108-4f7f-ade9-1d37da092cdb"
      },
      "outputs": [
        {
          "output_type": "execute_result",
          "data": {
            "text/plain": [
              "'Positive'"
            ],
            "application/vnd.google.colaboratory.intrinsic+json": {
              "type": "string"
            }
          },
          "metadata": {},
          "execution_count": 27
        }
      ],
      "source": [
        "review_chain.invoke({\"review_text\": reviews[0]})"
      ]
    },
    {
      "cell_type": "code",
      "execution_count": 28,
      "metadata": {
        "id": "A2TWICL7zFWt"
      },
      "outputs": [],
      "source": [
        "category_chain = few_shot_category_prompt | llm | StrOutputParser()"
      ]
    },
    {
      "cell_type": "code",
      "execution_count": 29,
      "metadata": {
        "colab": {
          "base_uri": "https://localhost:8080/",
          "height": 35
        },
        "id": "7c648A0F0QvD",
        "outputId": "e0fc8298-7334-491c-c33b-2d9293eaf4bc"
      },
      "outputs": [
        {
          "output_type": "execute_result",
          "data": {
            "text/plain": [
              "'Customer Service'"
            ],
            "application/vnd.google.colaboratory.intrinsic+json": {
              "type": "string"
            }
          },
          "metadata": {},
          "execution_count": 29
        }
      ],
      "source": [
        "category_chain.invoke({\"review_text\": reviews[1]})"
      ]
    },
    {
      "cell_type": "code",
      "execution_count": 51,
      "metadata": {
        "id": "4g5Dd0U3xHS_"
      },
      "outputs": [],
      "source": [
        "response_to_customer = \"\"\"\n",
        "\"Write an appropriate response to the customer by either appreciating their positive experience or adressing the specific concern that customer might\n",
        "have mentioned in the feedback below.\n",
        "\n",
        "<feedback>\n",
        "{feedback}\n",
        "</feedback>\n",
        "\n",
        "The feedback is about {category}.\n",
        "\n",
        "The goal of the response is to ensure customer engagement.\n",
        "\"\"\""
      ]
    },
    {
      "cell_type": "code",
      "execution_count": 52,
      "metadata": {
        "id": "Vkracy1OvsU7"
      },
      "outputs": [],
      "source": [
        "response_prompt = PromptTemplate(\n",
        "    input_variables=[\"feedback\", \"category\"],\n",
        "    template=response_to_customer,\n",
        ")"
      ]
    },
    {
      "cell_type": "code",
      "execution_count": 53,
      "metadata": {
        "id": "P-VEWxPUzVOR"
      },
      "outputs": [],
      "source": [
        "final_response_chain = response_prompt | llm | StrOutputParser()"
      ]
    },
    {
      "cell_type": "code",
      "execution_count": 54,
      "metadata": {
        "id": "JShSwOmhxZ6K"
      },
      "outputs": [],
      "source": [
        "complete_chain = (\n",
        "    {\n",
        "        \"feedback\": review_chain,\n",
        "        \"category\": category_chain,\n",
        "    }\n",
        "    | final_response_chain\n",
        ")"
      ]
    },
    {
      "cell_type": "code",
      "execution_count": 55,
      "metadata": {
        "id": "3mLGrv_b0r0s"
      },
      "outputs": [],
      "source": [
        "from pprint import pprint"
      ]
    },
    {
      "cell_type": "code",
      "execution_count": 57,
      "metadata": {
        "colab": {
          "base_uri": "https://localhost:8080/",
          "height": 35
        },
        "id": "hXIeTzHOWMl8",
        "outputId": "4ff40b93-a2b1-449e-d3f7-a9ca08731a13"
      },
      "outputs": [
        {
          "output_type": "execute_result",
          "data": {
            "text/plain": [
              "'The food tasted alright, but the tables were not very clean, which was off-putting.'"
            ],
            "application/vnd.google.colaboratory.intrinsic+json": {
              "type": "string"
            }
          },
          "metadata": {},
          "execution_count": 57
        }
      ],
      "source": [
        "reviews[3]"
      ]
    },
    {
      "cell_type": "code",
      "execution_count": 59,
      "metadata": {
        "colab": {
          "base_uri": "https://localhost:8080/"
        },
        "id": "dh24RaUwyMRE",
        "outputId": "9adff2ee-390e-4214-ac99-a85b319805ce"
      },
      "outputs": [
        {
          "output_type": "stream",
          "name": "stdout",
          "text": [
            "('We are sorry to hear that you had a negative experience. We take customer '\n",
            " 'feedback very seriously and would like to address any concerns you may have. '\n",
            " 'Please feel free to reach out to us directly so we can further discuss and '\n",
            " 'work towards resolving any issues you may have encountered. Thank you for '\n",
            " 'bringing this to our attention.')\n"
          ]
        }
      ],
      "source": [
        "pprint(complete_chain.invoke({\"review_text\": reviews[4]}))"
      ]
    },
    {
      "cell_type": "code",
      "execution_count": null,
      "metadata": {
        "id": "W0tFkUFSyTGs"
      },
      "outputs": [],
      "source": []
    }
  ],
  "metadata": {
    "colab": {
      "provenance": []
    },
    "kernelspec": {
      "display_name": "Python 3 (ipykernel)",
      "language": "python",
      "name": "python3"
    },
    "language_info": {
      "codemirror_mode": {
        "name": "ipython",
        "version": 3
      },
      "file_extension": ".py",
      "mimetype": "text/x-python",
      "name": "python",
      "nbconvert_exporter": "python",
      "pygments_lexer": "ipython3",
      "version": "3.10.9"
    }
  },
  "nbformat": 4,
  "nbformat_minor": 0
}