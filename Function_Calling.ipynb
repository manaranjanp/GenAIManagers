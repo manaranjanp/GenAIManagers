{
  "cells": [
    {
      "cell_type": "markdown",
      "id": "48675700",
      "metadata": {
        "id": "48675700"
      },
      "source": [
        "\n",
        "# Stock Analysis using OpenAI Functions and LangChain Multi Agent\n",
        "\n",
        "#### Developed By: Manaranjan Pradhan\n",
        "#### www.manaranjanp.com\n",
        "\n",
        "*This Jupyter notebook is confidential and proprietary to Manaranjan Pradhan. It is intended solely for authorized training purposes. Unauthorized distribution, sharing, or reproduction of this notebook or its contents is strictly prohibited. This material is for personal learning within the training program only and may not be used for commercial purposes or shared with others. Unauthorized use may result in disciplinary action or legal consequences. If you have received this notebook without authorization, please contact manaranjan@gmail.com immediately and delete all copies.*\n",
        "\n",
        "**Diclaimer**: This is only a demo notebook of stocks analysis. The recommendations or advise may not be used for actual invesment decision."
      ]
    },
    {
      "cell_type": "code",
      "execution_count": 1,
      "id": "69a17ae5",
      "metadata": {
        "id": "69a17ae5",
        "colab": {
          "base_uri": "https://localhost:8080/"
        },
        "outputId": "85e28272-135d-4d58-ecdc-9c6d2dd6fbd6"
      },
      "outputs": [
        {
          "output_type": "stream",
          "name": "stdout",
          "text": [
            "\u001b[2K   \u001b[90m━━━━━━━━━━━━━━━━━━━━━━━━━━━━━━━━━━━━━━━━\u001b[0m \u001b[32m76.4/76.4 kB\u001b[0m \u001b[31m175.5 kB/s\u001b[0m eta \u001b[36m0:00:00\u001b[0m\n",
            "\u001b[2K   \u001b[90m━━━━━━━━━━━━━━━━━━━━━━━━━━━━━━━━━━━━━━━━\u001b[0m \u001b[32m50.7/50.7 kB\u001b[0m \u001b[31m2.1 MB/s\u001b[0m eta \u001b[36m0:00:00\u001b[0m\n",
            "\u001b[2K   \u001b[90m━━━━━━━━━━━━━━━━━━━━━━━━━━━━━━━━━━━━━━━━\u001b[0m \u001b[32m1.2/1.2 MB\u001b[0m \u001b[31m22.1 MB/s\u001b[0m eta \u001b[36m0:00:00\u001b[0m\n",
            "\u001b[?25h"
          ]
        }
      ],
      "source": [
        "!pip install -q yfinance langchain openai langchain_openai langchainhub langsmith httpx==0.27.2"
      ]
    },
    {
      "cell_type": "code",
      "execution_count": 2,
      "id": "e89c1cf6",
      "metadata": {
        "id": "e89c1cf6"
      },
      "outputs": [],
      "source": [
        "import openai\n",
        "import json\n",
        "import os\n",
        "import numpy as np\n",
        "import yfinance as yf\n",
        "from langchain_core.tools import StructuredTool\n",
        "from langchain.agents import AgentExecutor, create_openai_functions_agent\n",
        "from langchain_openai import ChatOpenAI\n",
        "from langchain import hub\n",
        "from google.colab import userdata"
      ]
    },
    {
      "cell_type": "markdown",
      "id": "f59239f7",
      "metadata": {
        "id": "f59239f7"
      },
      "source": [
        "## Defining a custom method for obtaining stats of a stock\n",
        "\n",
        "**yfinance** is an open source library to access the financial data available on Yahoo Finance, which offers an excellent range of market data on stocks, bonds and currencies along with market news, reports and analysis.\n",
        "\n",
        "- Define a function which returns total gains, average and standard deviation of daily prices changes of stocks for a specified number of months"
      ]
    },
    {
      "cell_type": "code",
      "execution_count": 3,
      "id": "389ad696",
      "metadata": {
        "id": "389ad696"
      },
      "outputs": [],
      "source": [
        "def get_stock_stats(ticker: str):\n",
        "\n",
        "    '''\n",
        "        input string ticker is The correct ticker symbol for the stock in Nation Stock Exchange (NSE) India.\n",
        "    '''\n",
        "\n",
        "    # Get ticker name correctly\n",
        "    msft = yf.Ticker(ticker.split(\".\")[0] + \".NS\")\n",
        "\n",
        "    # get historical market data\n",
        "    hist = msft.history(period = str(3) + \"mo\" )\n",
        "\n",
        "    # Compute the market data\n",
        "    hist['daily_changes']  = (hist['Close'] - hist['Open']) * 100 / hist['Open']\n",
        "\n",
        "    # Compute different statistics\n",
        "    total_gain = (hist.iloc[-1][\"Close\"] - hist.iloc[0][\"Open\"] ) * 100 / hist.iloc[0][\"Open\"]\n",
        "    avg_daily_changes = np.mean(hist['daily_changes'])\n",
        "    std_daily_changes = np.std(hist['daily_changes'])\n",
        "\n",
        "    stock_stats = {'total_gain_in_percentage': round(total_gain, 3),\n",
        "                   'average_daily_changes_in_percentage': round(avg_daily_changes, 3),\n",
        "                   'std_daily_changes_in_percentage': round(std_daily_changes, 3)}\n",
        "\n",
        "    return json.dumps(stock_stats)"
      ]
    },
    {
      "cell_type": "code",
      "source": [
        "get_stock_stats(\"TATAPOWER\")"
      ],
      "metadata": {
        "colab": {
          "base_uri": "https://localhost:8080/",
          "height": 35
        },
        "id": "9_zAawBcQ-Jw",
        "outputId": "08ca387b-ff02-4f14-873e-4c04333f14a6"
      },
      "id": "9_zAawBcQ-Jw",
      "execution_count": 4,
      "outputs": [
        {
          "output_type": "execute_result",
          "data": {
            "text/plain": [
              "'{\"total_gain_in_percentage\": 4.69, \"average_daily_changes_in_percentage\": -0.215, \"std_daily_changes_in_percentage\": 1.897}'"
            ],
            "application/vnd.google.colaboratory.intrinsic+json": {
              "type": "string"
            }
          },
          "metadata": {},
          "execution_count": 4
        }
      ]
    },
    {
      "cell_type": "markdown",
      "id": "df83c77c",
      "metadata": {
        "id": "df83c77c"
      },
      "source": [
        "## Configuring the function as a tool"
      ]
    },
    {
      "cell_type": "markdown",
      "id": "4a4dab7c",
      "metadata": {
        "id": "4a4dab7c"
      },
      "source": [
        "## Configuring tool as OpenAI function"
      ]
    },
    {
      "cell_type": "code",
      "execution_count": 6,
      "id": "fdfb104a",
      "metadata": {
        "colab": {
          "base_uri": "https://localhost:8080/"
        },
        "id": "fdfb104a",
        "outputId": "fa32539f-97cc-4c17-c105-043dfa40c835"
      },
      "outputs": [
        {
          "name": "stdout",
          "output_type": "stream",
          "text": [
            "OpenAI Key:··········\n"
          ]
        }
      ],
      "source": [
        "os.environ[\"OPENAI_API_KEY\"] = userdata.get('OPENAI_API_KEY')"
      ]
    },
    {
      "cell_type": "code",
      "source": [
        "#os.environ[\"LANGCHAIN_API_KEY\"] = getpass(\"Langchain API Key:\")"
      ],
      "metadata": {
        "colab": {
          "base_uri": "https://localhost:8080/"
        },
        "id": "FIgm1qKB7bsK",
        "outputId": "576f7d60-c97c-42f8-bb87-2a14d833ce7d"
      },
      "id": "FIgm1qKB7bsK",
      "execution_count": null,
      "outputs": [
        {
          "name": "stdout",
          "output_type": "stream",
          "text": [
            "Langchain API Key:··········\n"
          ]
        }
      ]
    },
    {
      "cell_type": "code",
      "source": [
        "tool = StructuredTool.from_function(get_stock_stats)\n"
      ],
      "metadata": {
        "id": "-oxkvt318aqv"
      },
      "id": "-oxkvt318aqv",
      "execution_count": 7,
      "outputs": []
    },
    {
      "cell_type": "code",
      "execution_count": 21,
      "id": "8bfd9d33",
      "metadata": {
        "id": "8bfd9d33"
      },
      "outputs": [],
      "source": [
        "llm = ChatOpenAI(model_name='gpt-4o-2024-08-06',\n",
        "             temperature=0.0,\n",
        "             max_tokens = 2048)"
      ]
    },
    {
      "cell_type": "code",
      "execution_count": 22,
      "id": "3b18ebea",
      "metadata": {
        "id": "3b18ebea",
        "colab": {
          "base_uri": "https://localhost:8080/"
        },
        "outputId": "86a1c68e-021d-43eb-e2d8-b6ed770db1d7"
      },
      "outputs": [
        {
          "output_type": "stream",
          "name": "stderr",
          "text": [
            "/usr/local/lib/python3.10/dist-packages/langsmith/client.py:241: LangSmithMissingAPIKeyWarning: API key must be provided when using hosted LangSmith API\n",
            "  warnings.warn(\n"
          ]
        }
      ],
      "source": [
        "tools = [\n",
        "    tool\n",
        "]\n",
        "\n",
        "# Get the prompt to use - you can modify this!\n",
        "prompt = hub.pull(\"hwchase17/openai-functions-agent\")\n",
        "\n",
        "agent = create_openai_functions_agent(llm, tools, prompt)\n"
      ]
    },
    {
      "cell_type": "code",
      "source": [
        "agent_executor = AgentExecutor(agent=agent, tools=tools, verbose=True)"
      ],
      "metadata": {
        "id": "kEIwi8sPPNfW"
      },
      "id": "kEIwi8sPPNfW",
      "execution_count": 23,
      "outputs": []
    },
    {
      "cell_type": "code",
      "source": [
        "agent_executor.invoke( {\"input\": \"How to calculate risk of a stock?\"} )"
      ],
      "metadata": {
        "id": "MhvFJCU4eCSI",
        "colab": {
          "base_uri": "https://localhost:8080/"
        },
        "outputId": "1867543b-bde1-4d5b-9bf9-e5754cfba31a"
      },
      "id": "MhvFJCU4eCSI",
      "execution_count": 11,
      "outputs": [
        {
          "output_type": "stream",
          "name": "stdout",
          "text": [
            "\n",
            "\n",
            "\u001b[1m> Entering new AgentExecutor chain...\u001b[0m\n",
            "\u001b[32;1m\u001b[1;3mThe risk of a stock is typically measured by its volatility, which is the degree of variation of a trading price series over time. One common way to calculate the risk of a stock is by using the standard deviation of its historical returns. Here is a general formula to calculate the risk of a stock:\n",
            "\n",
            "1. Calculate the average return of the stock over a specific period.\n",
            "2. Calculate the difference between each individual return and the average return.\n",
            "3. Square each difference.\n",
            "4. Calculate the average of the squared differences.\n",
            "5. Take the square root of the average squared differences to get the standard deviation, which represents the risk of the stock.\n",
            "\n",
            "You can also use statistical measures such as beta, which measures the stock's sensitivity to market movements, to assess the risk of a stock.\n",
            "\n",
            "If you have a specific stock in mind, I can help you calculate the risk of that stock by providing its historical data and performing the necessary calculations. Just let me know the ticker symbol of the stock you are interested in.\u001b[0m\n",
            "\n",
            "\u001b[1m> Finished chain.\u001b[0m\n"
          ]
        },
        {
          "output_type": "execute_result",
          "data": {
            "text/plain": [
              "{'input': 'How to calculate risk of a stock?',\n",
              " 'output': \"The risk of a stock is typically measured by its volatility, which is the degree of variation of a trading price series over time. One common way to calculate the risk of a stock is by using the standard deviation of its historical returns. Here is a general formula to calculate the risk of a stock:\\n\\n1. Calculate the average return of the stock over a specific period.\\n2. Calculate the difference between each individual return and the average return.\\n3. Square each difference.\\n4. Calculate the average of the squared differences.\\n5. Take the square root of the average squared differences to get the standard deviation, which represents the risk of the stock.\\n\\nYou can also use statistical measures such as beta, which measures the stock's sensitivity to market movements, to assess the risk of a stock.\\n\\nIf you have a specific stock in mind, I can help you calculate the risk of that stock by providing its historical data and performing the necessary calculations. Just let me know the ticker symbol of the stock you are interested in.\"}"
            ]
          },
          "metadata": {},
          "execution_count": 11
        }
      ]
    },
    {
      "cell_type": "code",
      "execution_count": 24,
      "id": "6fa667cf",
      "metadata": {
        "id": "6fa667cf",
        "colab": {
          "base_uri": "https://localhost:8080/"
        },
        "outputId": "e57635ba-3713-4c98-bb3b-d9c4b4fd33b2"
      },
      "outputs": [
        {
          "output_type": "stream",
          "name": "stdout",
          "text": [
            "\n",
            "\n",
            "\u001b[1m> Entering new AgentExecutor chain...\u001b[0m\n",
            "\u001b[32;1m\u001b[1;3m\n",
            "Invoking: `get_stock_stats` with `{'ticker': 'TATAPOWER'}`\n",
            "\n",
            "\n",
            "\u001b[0m\u001b[36;1m\u001b[1;3m{\"total_gain_in_percentage\": 4.69, \"average_daily_changes_in_percentage\": -0.215, \"std_daily_changes_in_percentage\": 1.897}\u001b[0m\u001b[32;1m\u001b[1;3mThe return from TATAPOWER stock in the NSE over the last three months is 4.69%.\u001b[0m\n",
            "\n",
            "\u001b[1m> Finished chain.\u001b[0m\n"
          ]
        },
        {
          "output_type": "execute_result",
          "data": {
            "text/plain": [
              "{'input': 'What is the return from TATAPOWER stock in NSE in last three month?',\n",
              " 'output': 'The return from TATAPOWER stock in the NSE over the last three months is 4.69%.'}"
            ]
          },
          "metadata": {},
          "execution_count": 24
        }
      ],
      "source": [
        "agent_executor.invoke( {\"input\": \"What is the return from TATAPOWER stock in NSE in last three month?\"} )"
      ]
    },
    {
      "cell_type": "markdown",
      "id": "ca9c15c9",
      "metadata": {
        "id": "ca9c15c9"
      },
      "source": [
        "## OpenAI Multi Function Agent"
      ]
    },
    {
      "cell_type": "code",
      "execution_count": 25,
      "id": "173c517a",
      "metadata": {
        "scrolled": true,
        "id": "173c517a",
        "colab": {
          "base_uri": "https://localhost:8080/"
        },
        "outputId": "a31dd3f4-0f2c-4599-b482-584f8c0f0186"
      },
      "outputs": [
        {
          "output_type": "stream",
          "name": "stdout",
          "text": [
            "\n",
            "\n",
            "\u001b[1m> Entering new AgentExecutor chain...\u001b[0m\n",
            "\u001b[32;1m\u001b[1;3m\n",
            "Invoking: `get_stock_stats` with `{'ticker': 'TATAPOWER'}`\n",
            "responded: To determine which stock, between Tata Power and Adani Power, had higher volatility in the last month, we need to follow these steps:\n",
            "\n",
            "1. **Identify the Ticker Symbols**: \n",
            "   - Tata Power's ticker symbol on the NSE is \"TATAPOWER\".\n",
            "   - Adani Power's ticker symbol on the NSE is \"ADANIPOWER\".\n",
            "\n",
            "2. **Fetch Stock Statistics**: \n",
            "   - We will use the `get_stock_stats` function to fetch the stock statistics for both \"TATAPOWER\" and \"ADANIPOWER\".\n",
            "\n",
            "3. **Analyze Volatility**:\n",
            "   - Volatility is typically measured by the standard deviation of the stock's returns over a specific period. In this case, we will look at the volatility over the last month.\n",
            "   - We will compare the volatility values for both stocks to determine which one had higher volatility.\n",
            "\n",
            "Let's start by fetching the stock statistics for both companies.\n",
            "\n",
            "\u001b[0m\u001b[36;1m\u001b[1;3m{\"total_gain_in_percentage\": 4.69, \"average_daily_changes_in_percentage\": -0.215, \"std_daily_changes_in_percentage\": 1.897}\u001b[0m\u001b[32;1m\u001b[1;3m\n",
            "Invoking: `get_stock_stats` with `{'ticker': 'ADANIPOWER'}`\n",
            "\n",
            "\n",
            "\u001b[0m\u001b[36;1m\u001b[1;3m{\"total_gain_in_percentage\": -16.755, \"average_daily_changes_in_percentage\": -0.162, \"std_daily_changes_in_percentage\": 3.336}\u001b[0m\u001b[32;1m\u001b[1;3mBased on the stock statistics retrieved:\n",
            "\n",
            "- **Tata Power (TATAPOWER)**:\n",
            "  - Standard deviation of daily changes: 1.897%\n",
            "\n",
            "- **Adani Power (ADANIPOWER)**:\n",
            "  - Standard deviation of daily changes: 3.336%\n",
            "\n",
            "### Conclusion:\n",
            "Adani Power (ADANIPOWER) had higher volatility in the last month compared to Tata Power (TATAPOWER), as indicated by the higher standard deviation of daily changes (3.336% vs. 1.897%).\n",
            "\n",
            "### Explanation:\n",
            "- **Volatility** is measured by the standard deviation of daily percentage changes in stock prices. A higher standard deviation indicates higher volatility.\n",
            "- We compared the standard deviation of daily changes for both stocks over the last month to determine which one experienced more fluctuation in its stock price.\u001b[0m\n",
            "\n",
            "\u001b[1m> Finished chain.\u001b[0m\n"
          ]
        }
      ],
      "source": [
        "response = agent_executor.invoke( {\"input\":\n",
        "    \"Between tatapower and adanipower in NSE India, which stock had \\\n",
        "    observerd higher volatility in last one month? Explain the steps for your response. \\\n",
        "    The correct ticket symbol for NSE should be generated from the company names and passed as parameter to tools as necessary.\"}\n",
        ")"
      ]
    },
    {
      "cell_type": "code",
      "source": [
        "import textwrap"
      ],
      "metadata": {
        "id": "HVJeTt8FV0Q3"
      },
      "id": "HVJeTt8FV0Q3",
      "execution_count": 26,
      "outputs": []
    },
    {
      "cell_type": "code",
      "execution_count": 27,
      "id": "45e1f6a5",
      "metadata": {
        "id": "45e1f6a5",
        "colab": {
          "base_uri": "https://localhost:8080/"
        },
        "outputId": "f2901abe-fcb2-490b-ad43-c36f5c5c431f"
      },
      "outputs": [
        {
          "output_type": "stream",
          "name": "stdout",
          "text": [
            "Based on the stock statistics retrieved:\n",
            "\n",
            "- **Tata Power (TATAPOWER)**:\n",
            "  - Standard deviation of daily changes: 1.897%\n",
            "- **Adani Power (ADANIPOWER)**:\n",
            "  - Standard deviation of daily changes: 3.336%\n",
            "\n",
            "### Conclusion:\n",
            "Adani Power\n",
            "(ADANIPOWER) had higher volatility in the last month compared to Tata Power (TATAPOWER), as indicated by the higher\n",
            "standard deviation of daily changes (3.336% vs. 1.897%).\n",
            "\n",
            "### Explanation:\n",
            "- **Volatility** is measured by the standard\n",
            "deviation of daily percentage changes in stock prices. A higher standard deviation indicates higher volatility.\n",
            "- We\n",
            "compared the standard deviation of daily changes for both stocks over the last month to determine which one experienced\n",
            "more fluctuation in its stock price.\n"
          ]
        }
      ],
      "source": [
        "wrapped_text = textwrap.fill(response['output'],\n",
        "                             width=120,\n",
        "                             break_long_words=False,\n",
        "                             replace_whitespace=False)\n",
        "print(wrapped_text)"
      ]
    },
    {
      "cell_type": "code",
      "source": [],
      "metadata": {
        "id": "q4n7wek0_YNR"
      },
      "id": "q4n7wek0_YNR",
      "execution_count": null,
      "outputs": []
    }
  ],
  "metadata": {
    "kernelspec": {
      "display_name": "Python 3 (ipykernel)",
      "language": "python",
      "name": "python3"
    },
    "language_info": {
      "codemirror_mode": {
        "name": "ipython",
        "version": 3
      },
      "file_extension": ".py",
      "mimetype": "text/x-python",
      "name": "python",
      "nbconvert_exporter": "python",
      "pygments_lexer": "ipython3",
      "version": "3.10.9"
    },
    "colab": {
      "provenance": []
    }
  },
  "nbformat": 4,
  "nbformat_minor": 5
}